{
 "cells": [
  {
   "cell_type": "code",
   "execution_count": 2,
   "metadata": {},
   "outputs": [],
   "source": [
    "import torch\n",
    "import torch.nn as nn"
   ]
  },
  {
   "cell_type": "code",
   "execution_count": 6,
   "metadata": {},
   "outputs": [],
   "source": [
    "m=nn.Linear(3,2)\n",
    "m1=nn.Linear(3,2)"
   ]
  },
  {
   "cell_type": "code",
   "execution_count": 7,
   "metadata": {},
   "outputs": [
    {
     "data": {
      "text/plain": [
       "<All keys matched successfully>"
      ]
     },
     "execution_count": 7,
     "metadata": {},
     "output_type": "execute_result"
    }
   ],
   "source": [
    "m1.load_state_dict(m.state_dict())"
   ]
  },
  {
   "cell_type": "code",
   "execution_count": 47,
   "metadata": {},
   "outputs": [
    {
     "data": {
      "text/plain": [
       "torch.Size([32])"
      ]
     },
     "execution_count": 47,
     "metadata": {},
     "output_type": "execute_result"
    }
   ],
   "source": [
    "q=torch.rand(32,1)\n",
    "mask=q>1\n",
    "q1=torch.rand(32,10)\n",
    "\n",
    "a=torch.randint(0,10,(32,))\n",
    "\n",
    "q[range(32),a].shape\n",
    "# print(a)"
   ]
  },
  {
   "cell_type": "code",
   "execution_count": 53,
   "metadata": {},
   "outputs": [
    {
     "data": {
      "text/plain": [
       "torch.Size([32])"
      ]
     },
     "execution_count": 53,
     "metadata": {},
     "output_type": "execute_result"
    }
   ],
   "source": [
    "q=torch.rand(32,)\n",
    "q1=torch.rand(32,)\n",
    "nn.functional.mse_loss(q,q1,reduction='none').shape"
   ]
  },
  {
   "cell_type": "code",
   "execution_count": 51,
   "metadata": {},
   "outputs": [
    {
     "data": {
      "text/plain": [
       "tensor([[0.1242],\n",
       "        [0.0568],\n",
       "        [0.2663],\n",
       "        [0.3073],\n",
       "        [0.7444],\n",
       "        [0.4831],\n",
       "        [0.1897],\n",
       "        [0.0142],\n",
       "        [0.2126],\n",
       "        [0.1155],\n",
       "        [0.5565],\n",
       "        [0.6935],\n",
       "        [0.3288],\n",
       "        [0.2453],\n",
       "        [0.4745],\n",
       "        [0.0978],\n",
       "        [0.7781],\n",
       "        [0.9426],\n",
       "        [0.9855],\n",
       "        [0.2173],\n",
       "        [0.7108],\n",
       "        [0.8820],\n",
       "        [0.4963],\n",
       "        [0.7042],\n",
       "        [0.7887],\n",
       "        [0.7030],\n",
       "        [0.0285],\n",
       "        [0.1218],\n",
       "        [0.1031],\n",
       "        [0.7093],\n",
       "        [0.5577],\n",
       "        [0.1803]])"
      ]
     },
     "execution_count": 51,
     "metadata": {},
     "output_type": "execute_result"
    }
   ],
   "source": [
    "q=torch.rand(32,1)\n",
    "mask=q>1\n",
    "q*torch.bitwise_not(mask)\n"
   ]
  },
  {
   "cell_type": "code",
   "execution_count": null,
   "metadata": {},
   "outputs": [],
   "source": []
  }
 ],
 "metadata": {
  "kernelspec": {
   "display_name": "Python 3",
   "language": "python",
   "name": "python3"
  },
  "language_info": {
   "codemirror_mode": {
    "name": "ipython",
    "version": 3
   },
   "file_extension": ".py",
   "mimetype": "text/x-python",
   "name": "python",
   "nbconvert_exporter": "python",
   "pygments_lexer": "ipython3",
   "version": "3.10.10"
  },
  "orig_nbformat": 4
 },
 "nbformat": 4,
 "nbformat_minor": 2
}
