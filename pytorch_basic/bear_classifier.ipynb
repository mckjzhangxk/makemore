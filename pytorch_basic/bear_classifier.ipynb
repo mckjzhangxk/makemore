{
 "cells": [
  {
   "cell_type": "code",
   "execution_count": 1,
   "id": "4da14dae",
   "metadata": {},
   "outputs": [],
   "source": [
    "import fastbook\n",
    "fastbook.setup_book()\n",
    "from fastbook import *\n",
    "from fastai.vision.widgets import *"
   ]
  },
  {
   "cell_type": "markdown",
   "id": "e7f2be5f",
   "metadata": {},
   "source": [
    "# 简单的分类器\n",
    "- 首先上传你的分类文件\n",
    "- 然后点击开始分类按钮"
   ]
  },
  {
   "cell_type": "code",
   "execution_count": 5,
   "id": "fc8aa77e",
   "metadata": {},
   "outputs": [
    {
     "data": {
      "application/vnd.jupyter.widget-view+json": {
       "model_id": "fe0b1ae090804e1fa1fbcc10a2a19834",
       "version_major": 2,
       "version_minor": 0
      },
      "text/plain": [
       "VBox(children=(Label(value='选择你的图片'), FileUpload(value={}, description='Upload'), Button(description='开始分类', s…"
      ]
     },
     "metadata": {},
     "output_type": "display_data"
    },
    {
     "data": {
      "text/html": [
       "\n",
       "<style>\n",
       "    /* Turns off some styling */\n",
       "    progress {\n",
       "        /* gets rid of default border in Firefox and Opera. */\n",
       "        border: none;\n",
       "        /* Needs to be in here for Safari polyfill so background images work as expected. */\n",
       "        background-size: auto;\n",
       "    }\n",
       "    progress:not([value]), progress:not([value])::-webkit-progress-bar {\n",
       "        background: repeating-linear-gradient(45deg, #7e7e7e, #7e7e7e 10px, #5c5c5c 10px, #5c5c5c 20px);\n",
       "    }\n",
       "    .progress-bar-interrupted, .progress-bar-interrupted::-webkit-progress-bar {\n",
       "        background: #F44336;\n",
       "    }\n",
       "</style>\n"
      ],
      "text/plain": [
       "<IPython.core.display.HTML object>"
      ]
     },
     "metadata": {},
     "output_type": "display_data"
    },
    {
     "data": {
      "text/html": [],
      "text/plain": [
       "<IPython.core.display.HTML object>"
      ]
     },
     "metadata": {},
     "output_type": "display_data"
    }
   ],
   "source": [
    "path=Path(\".\")\n",
    "learn_inf = load_learner(path/'export.pkl')\n",
    "# # 创建UI组件\n",
    "btn_upload=widgets.FileUpload()\n",
    "btn_classify=widgets.Button(description=\"开始分类\")\n",
    "label_title=widgets.Label(\"选择你的图片\")\n",
    "label_prompt=widgets.Label(\"\")\n",
    "out_wigets=widgets.Output()\n",
    "\n",
    "def on_click(change):\n",
    "    img= PILImage.create(btn_upload.data[-1])\n",
    "    \n",
    "    ypred,idx,probs=learn_inf.predict(img)\n",
    "    label_prompt.value=f'结果:{ypred},概率:{probs[idx].item():.04f}'\n",
    "    \n",
    "    out_wigets.clear_output()\n",
    "\n",
    "    with out_wigets: \n",
    "        display(img.to_thumb(256,256))\n",
    "\n",
    "\n",
    "btn_classify.on_click(on_click)\n",
    "VBox([label_title,btn_upload,btn_classify,out_wigets,label_prompt])"
   ]
  },
  {
   "cell_type": "code",
   "execution_count": null,
   "id": "16eea871",
   "metadata": {},
   "outputs": [],
   "source": []
  }
 ],
 "metadata": {
  "kernelspec": {
   "display_name": "Python 3 (ipykernel)",
   "language": "python",
   "name": "python3"
  },
  "language_info": {
   "codemirror_mode": {
    "name": "ipython",
    "version": 3
   },
   "file_extension": ".py",
   "mimetype": "text/x-python",
   "name": "python",
   "nbconvert_exporter": "python",
   "pygments_lexer": "ipython3",
   "version": "3.10.10"
  },
  "toc": {
   "base_numbering": 1,
   "nav_menu": {},
   "number_sections": true,
   "sideBar": true,
   "skip_h1_title": false,
   "title_cell": "Table of Contents",
   "title_sidebar": "Contents",
   "toc_cell": false,
   "toc_position": {},
   "toc_section_display": true,
   "toc_window_display": false
  }
 },
 "nbformat": 4,
 "nbformat_minor": 5
}
